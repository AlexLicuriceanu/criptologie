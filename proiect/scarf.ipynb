{
 "cells": [
  {
   "cell_type": "markdown",
   "id": "c703d8d4",
   "metadata": {},
   "source": [
    "# SCARF - A Low-Latency Block Cipher for Secure Cache-Randomization"
   ]
  },
  {
   "cell_type": "markdown",
   "id": "74652d8f",
   "metadata": {},
   "source": [
    "### Prerequisites"
   ]
  },
  {
   "cell_type": "code",
   "execution_count": 1,
   "id": "480963df",
   "metadata": {},
   "outputs": [],
   "source": [
    "import random"
   ]
  },
  {
   "cell_type": "markdown",
   "id": "46014e69",
   "metadata": {},
   "source": [
    "### Utility bitwise functions"
   ]
  },
  {
   "cell_type": "code",
   "execution_count": 2,
   "id": "4ad5fe0a",
   "metadata": {},
   "outputs": [],
   "source": [
    "def rotate_left(x, bits, max_bits):\n",
    "    return ((x << bits % max_bits) & ((1 << max_bits) - 1)) | (x >> (max_bits - (bits % max_bits)))\n",
    "\n",
    "def rotate_right(x, bits, max_bits):\n",
    "    return ((x >> (bits % max_bits)) | (x << (max_bits - (bits % max_bits)))) & ((1 << max_bits) - 1)\n",
    "\n",
    "def NOT(x, bits):\n",
    "    return x ^ ((1 << bits) - 1)"
   ]
  },
  {
   "cell_type": "code",
   "execution_count": 3,
   "id": "6a607d2b",
   "metadata": {},
   "outputs": [],
   "source": [
    "assert rotate_left(0b10011, 2, 5) == 0b01110, \"rotate_left failed\"\n",
    "assert rotate_right(0b01110, 2, 5) == 0b10011, \"rotate_right failed\"\n",
    "assert NOT(0b10011, 5) == 0b01100, \"NOT failed\""
   ]
  },
  {
   "cell_type": "markdown",
   "id": "004a6e6f",
   "metadata": {},
   "source": [
    "### S and G functions"
   ]
  },
  {
   "cell_type": "code",
   "execution_count": 4,
   "id": "00ba9336",
   "metadata": {},
   "outputs": [],
   "source": [
    "def generate_S(x):\n",
    "    return ((rotate_left(x, 0, 5) | rotate_left(x, 1, 5)) & (NOT(rotate_left(x, 3, 5), 5) | NOT(rotate_left(x, 4, 5), 5))) ^ \\\n",
    "           ((rotate_left(x, 0, 5) | rotate_left(x, 2, 5)) & (NOT(rotate_left(x, 2, 5), 5) | rotate_left(x, 3, 5)))\n",
    "\n",
    "# Precompute S-box and its inverse, max value is 2^5 - 1 (5 bits)\n",
    "SBOX = [generate_S(x) for x in range(32)]\n",
    "INVERSE_SBOX = [0] * 32\n",
    "\n",
    "for i, s in enumerate(SBOX):\n",
    "    INVERSE_SBOX[s] = i\n",
    "\n",
    "def S(x):\n",
    "    return SBOX[x]\n",
    "\n",
    "def S_inverse(x):\n",
    "    return INVERSE_SBOX[x]\n",
    "\n",
    "def G(x, k):\n",
    "    result = 0\n",
    "    for i in range(5):\n",
    "        result ^= rotate_left(x, i, 5) & k[i]\n",
    "\n",
    "    result = result ^ rotate_left(x, 1, 5) & rotate_left(x, 2, 5)\n",
    "    return result"
   ]
  },
  {
   "cell_type": "code",
   "execution_count": 5,
   "id": "94d47a10",
   "metadata": {},
   "outputs": [],
   "source": [
    "assert S_inverse(S(0b10011)) == 0b10011, \"S_inverse failed\"\n",
    "assert all(S_inverse(S(x)) == x for x in range(32)), \"S not invertible for all values\""
   ]
  },
  {
   "cell_type": "markdown",
   "id": "94715804",
   "metadata": {},
   "source": [
    "### Round functions and inverses"
   ]
  },
  {
   "cell_type": "code",
   "execution_count": 6,
   "id": "fa81d4d2",
   "metadata": {},
   "outputs": [],
   "source": [
    "def R1(x, key):\n",
    "    # Divide key into 6 parts of 5 bits each\n",
    "    k = [(key >> (i * 5)) & 0x1F for i in range(6)]\n",
    "\n",
    "    # Get upper (x_left) and lower (x_right) 5 bits of x\n",
    "    x_left = (x >> 5) & 0x1F\n",
    "    x_right = x & 0x1F\n",
    "\n",
    "    y = G(x_left, k) ^ x_right\n",
    "    x_right = S(x_left ^ k[5])\n",
    "\n",
    "    # Concatenate the left and right halves\n",
    "    return (y << 5) | x_right\n",
    "\n",
    "def R1_inv(x, key):\n",
    "    # Divide key into 6 parts of 5 bits each\n",
    "    k = [(key >> (i * 5)) & 0x1F for i in range(6)]\n",
    "\n",
    "    # Get upper (x_left) and lower (x_right) 5 bits of x\n",
    "    x_left = (x >> 5) & 0x1F\n",
    "    x_right = x & 0x1F\n",
    "\n",
    "    # First recover x_left\n",
    "    x_left = S_inverse(x_right) ^ k[5]\n",
    "\n",
    "    # Then recover x_right using G\n",
    "    y = x >> 5  # Extract y from the input\n",
    "    x_right = y ^ G(x_left, k)\n",
    "\n",
    "    # Concatenate the left and right halves\n",
    "    return (x_left << 5) | x_right\n",
    "\n",
    "def R2(x, key):\n",
    "    # Divide key into 6 parts of 5 bits each\n",
    "    k = [(key >> (i * 5)) & 0x1F for i in range(6)]\n",
    "\n",
    "    # Get upper (x_left) and lower (x_right) 5 bits of x\n",
    "    x_left = (x >> 5) & 0x1F\n",
    "    x_right = x & 0x1F\n",
    "\n",
    "    # Compute the new left and right halves\n",
    "    x_right = G(x_left, k) ^ x_right\n",
    "    x_left = S(x_left) ^ k[5]\n",
    "\n",
    "    # Concatenate the left and right halves\n",
    "    return (x_left << 5) | x_right\n",
    "\n",
    "def R2_inv(x, key):\n",
    "    k = [(key >> (i * 5)) & 0x1F for i in range(6)]\n",
    "    x_left = (x >> 5) & 0x1F\n",
    "    x_right = x & 0x1F\n",
    "\n",
    "    # First recover x_left\n",
    "    x_left = S_inverse(x_left ^ k[5])\n",
    "    \n",
    "    # Then recover x_right using G\n",
    "    x_right = x_right ^ G(x_left, k)\n",
    "\n",
    "    return (x_left << 5) | x_right"
   ]
  },
  {
   "cell_type": "code",
   "execution_count": 7,
   "id": "cccb1551",
   "metadata": {},
   "outputs": [],
   "source": [
    "round_key = random.getrandbits(30)\n",
    "x_test = random.getrandbits(10)\n",
    "\n",
    "assert R1_inv(R1(x_test, round_key), round_key) == x_test, \"R1_inv failed\"\n",
    "assert R2_inv(R2(x_test, round_key), round_key) == x_test, \"R2_inv failed\"\n",
    "assert R1(R1_inv(x_test, round_key), round_key) == x_test, \"R1_inv failed\"\n",
    "assert R2(R2_inv(x_test, round_key), round_key) == x_test, \"R2_inv failed\""
   ]
  },
  {
   "cell_type": "markdown",
   "id": "aec1d0a3",
   "metadata": {},
   "source": [
    "### Expansion function\n"
   ]
  },
  {
   "cell_type": "code",
   "execution_count": 8,
   "id": "42116827",
   "metadata": {},
   "outputs": [],
   "source": [
    "def expansion(tweak):\n",
    "    # Expand the 48-bit tweak into a 60-bit value by adding a 0 bit between each 4 bits\n",
    "    \n",
    "    result = 0\n",
    "    for i in range(12):\n",
    "        nibble = (tweak >> (i * 4)) & 0xF\n",
    "        result |= nibble << (i * 5)\n",
    "\n",
    "    return result"
   ]
  },
  {
   "cell_type": "code",
   "execution_count": 9,
   "id": "115069d3",
   "metadata": {},
   "outputs": [
    {
     "name": "stdout",
     "output_type": "stream",
     "text": [
      "Test Tweak:     111111111111111111111111111111111111111111111111\n",
      "Expanded Tweak: 011110111101111011110111101111011110111101111011110111101111\n"
     ]
    }
   ],
   "source": [
    "test_tweak = (1 << 48) - 1\n",
    "expanded_test_tweak = expansion(test_tweak)\n",
    "\n",
    "print(f\"Test Tweak:     {test_tweak:048b}\")\n",
    "print(f\"Expanded Tweak: {expanded_test_tweak:060b}\")"
   ]
  },
  {
   "cell_type": "markdown",
   "id": "88495642",
   "metadata": {},
   "source": [
    "### SL, Sigma, pi functions"
   ]
  },
  {
   "cell_type": "code",
   "execution_count": 10,
   "id": "88add75c",
   "metadata": {},
   "outputs": [],
   "source": [
    "def SL(x):\n",
    "    # The S-box from the round functions is applied to each 5-bit chunk of the input\n",
    "    # and the results are concatenated.\n",
    "\n",
    "    result = 0\n",
    "    for i in reversed(range(12)):\n",
    "        result <<= 5\n",
    "        result |= S((x >> (i * 5)) & 0x1F)\n",
    "\n",
    "    return result\n",
    "\n",
    "def Sigma(x):\n",
    "    return x ^ rotate_left(x, 6, 60) ^ rotate_left(x, 12, 60) ^ rotate_left(x, 19, 60) ^ rotate_left(x, 29, 60) ^ rotate_left(x, 43, 60) ^ rotate_left(x, 51, 60)\n",
    "\n",
    "# Generate the permutation table\n",
    "p = [j * 5 + i for i in range(5) for j in range(12)]\n",
    "\n",
    "def pi(x):\n",
    "    result = 0\n",
    "    for i in range(60):\n",
    "        bit = (x >> i) & 1\n",
    "        result |= bit << p[i]\n",
    "\n",
    "    return result"
   ]
  },
  {
   "cell_type": "markdown",
   "id": "4cecb1de",
   "metadata": {},
   "source": [
    "### Tweakey scheduling, round key generator functions"
   ]
  },
  {
   "cell_type": "code",
   "execution_count": 11,
   "id": "99d9bf24",
   "metadata": {},
   "outputs": [],
   "source": [
    "def tweakey_schedule(key, tweak):\n",
    "    tk = [0] * 4\n",
    "\n",
    "    # Split 240-bit key into 4 parts of 60 bits each\n",
    "    k = [key >> (i * 60) & ((1 << 60) - 1) for i in range(4)]\n",
    "\n",
    "    # Compute subkeys\n",
    "    tk[0] = expansion(tweak) ^ k[0]\n",
    "    tk[1] = Sigma(SL(tk[0])) ^ k[1]\n",
    "    tk[2] = SL(pi(SL(tk[1]) ^ k[2]))\n",
    "    tk[3] = SL(Sigma(tk[2]) ^ k[3])\n",
    "\n",
    "    return tk\n",
    "\n",
    "def generate_round_keys(tk):\n",
    "    round_keys = [0] * 8\n",
    "    \n",
    "    for i in range(4):\n",
    "        round_keys[2 * i] = tk[i] & ((1 << 30) - 1)\n",
    "        round_keys[2 * i + 1] = (tk[i] >> 30) & ((1 << 30) - 1)\n",
    "\n",
    "    return round_keys"
   ]
  },
  {
   "cell_type": "code",
   "execution_count": 12,
   "id": "29cd8010",
   "metadata": {},
   "outputs": [],
   "source": [
    "test_key = random.getrandbits(240)\n",
    "test_tweak = random.getrandbits(48)\n",
    "test_tk = tweakey_schedule(test_key, test_tweak)\n",
    "test_round_keys = generate_round_keys(test_tk)\n",
    "\n",
    "assert (test_round_keys[1] << 30) | test_round_keys[0] == test_tk[0], \"Key schedule failed\"\n",
    "assert (test_round_keys[3] << 30) | test_round_keys[2] == test_tk[1], \"Key schedule failed\"\n",
    "assert (test_round_keys[5] << 30) | test_round_keys[4] == test_tk[2], \"Key schedule failed\"\n",
    "assert (test_round_keys[7] << 30) | test_round_keys[6] == test_tk[3], \"Key schedule failed\""
   ]
  },
  {
   "cell_type": "markdown",
   "id": "a6a0136d",
   "metadata": {},
   "source": [
    "### Encryption, decryption functions"
   ]
  },
  {
   "cell_type": "code",
   "execution_count": 13,
   "id": "943a57ae",
   "metadata": {},
   "outputs": [
    {
     "name": "stdout",
     "output_type": "stream",
     "text": [
      "Key: 100001110011000010110001011100001000001011101110000101111010100110001000101011010110101011100100110000010000001010101001110001001011010010111101110010000000100001001110000100011101111101001000100100111001010101011011110000100100101100100100\n",
      "Tweak: 001110011011001110000110011100000101110111111100\n",
      "Tweakey 0: 111011101101111100001101010011010101110000001111111011001000\n",
      "Tweakey 1: 110010100101110010101100000001010101111111100101001011100101\n",
      "Tweakey 2: 000110110101010111010110010010001001000101000111110010111110\n",
      "Tweakey 3: 010011001001110111000000100100101100001101110111111001101000\n",
      "Round Key 0: 010101110000001111111011001000\n",
      "Round Key 1: 111011101101111100001101010011\n",
      "Round Key 2: 010101111111100101001011100101\n",
      "Round Key 3: 110010100101110010101100000001\n",
      "Round Key 4: 001001000101000111110010111110\n",
      "Round Key 5: 000110110101010111010110010010\n",
      "Round Key 6: 101100001101110111111001101000\n",
      "Round Key 7: 010011001001110111000000100100\n",
      "Plaintext:  1010001001\n",
      "Ciphertext: 1001110100\n",
      "Decrypted:  1010001001\n"
     ]
    }
   ],
   "source": [
    "def encrypt(plaintext, round_keys):\n",
    "    # Start with plaintext\n",
    "    state = plaintext\n",
    "\n",
    "    # Apply 7 R1 rounds\n",
    "    for i in range(7):\n",
    "        state = R1(state, round_keys[i])\n",
    "\n",
    "    # Apply 1 R2 round\n",
    "    state = R2(state, round_keys[7])\n",
    "\n",
    "    return state\n",
    "\n",
    "def decrypt(ciphertext, round_keys):\n",
    "    # Start with ciphertext\n",
    "    state = ciphertext\n",
    "\n",
    "    # Apply 1 R2_inv round\n",
    "    state = R2_inv(state, round_keys[7])\n",
    "\n",
    "    # Apply 7 R1_inv rounds in reverse order\n",
    "    for i in range(6, -1, -1):\n",
    "        state = R1_inv(state, round_keys[i])\n",
    "\n",
    "    return state\n",
    "\n",
    "\n",
    "key = random.getrandbits(240)\n",
    "tweak = random.getrandbits(48)\n",
    "plaintext = random.getrandbits(10)\n",
    "\n",
    "print(f\"Key: {key:240b}\")\n",
    "print(f\"Tweak: {tweak:048b}\")\n",
    "\n",
    "tk = tweakey_schedule(key, tweak)\n",
    "round_keys = generate_round_keys(tk)\n",
    "\n",
    "for i in range(4):\n",
    "    print(f\"Tweakey {i}: {tk[i]:060b}\")\n",
    "\n",
    "for i in range(8):\n",
    "    print(f\"Round Key {i}: {round_keys[i]:030b}\")\n",
    "\n",
    "ciphertext = encrypt(plaintext, round_keys)\n",
    "decrypted_plaintext = decrypt(ciphertext, round_keys)\n",
    "\n",
    "print(f\"Plaintext:  {plaintext:010b}\")\n",
    "print(f\"Ciphertext: {ciphertext:010b}\")\n",
    "print(f\"Decrypted:  {decrypted_plaintext:010b}\")"
   ]
  },
  {
   "cell_type": "code",
   "execution_count": 14,
   "id": "6a4bb996",
   "metadata": {},
   "outputs": [],
   "source": [
    "assert 0 <= plaintext < (1 << 10), \"Plaintext must be 10 bits\"\n",
    "assert 0 <= tweak < (1 << 48), \"Tweak must be 48 bits\"\n",
    "assert 0 <= key < (1 << 240), \"Key must be 240 bits\"\n",
    "assert 0 <= ciphertext < (1 << 10), \"Ciphertext must be 10 bits\"\n",
    "assert 0 <= decrypted_plaintext < (1 << 10), \"Decrypted plaintext must be 10 bits\"\n",
    "assert decrypted_plaintext == plaintext, \"Decryption failed\""
   ]
  }
 ],
 "metadata": {
  "kernelspec": {
   "display_name": "Python 3",
   "language": "python",
   "name": "python3"
  },
  "language_info": {
   "codemirror_mode": {
    "name": "ipython",
    "version": 3
   },
   "file_extension": ".py",
   "mimetype": "text/x-python",
   "name": "python",
   "nbconvert_exporter": "python",
   "pygments_lexer": "ipython3",
   "version": "3.12.3"
  }
 },
 "nbformat": 4,
 "nbformat_minor": 5
}
